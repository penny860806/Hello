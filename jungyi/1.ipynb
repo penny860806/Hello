{
 "cells": [
  {
   "cell_type": "code",
   "execution_count": 19,
   "metadata": {
    "collapsed": false
   },
   "outputs": [
    {
     "name": "stdout",
     "output_type": "stream",
     "text": [
      "Please input a list: [1, [12, 3, [4, [5, 16]]]]\n",
      "[[[[61 ,5] ,4] ,3 ,21] ,1] \n"
     ]
    }
   ],
   "source": [
    "import requests\n",
    "query = input(\"Please input a list:\")\n",
    "a=\"\"\n",
    "for i in reversed(query):\n",
    "    if i==\"]\":\n",
    "        a=a+\"[\"\n",
    "    elif i==\"[\":\n",
    "        a=a+\"]\"\n",
    "    else:\n",
    "        #print(i)\n",
    "        a=a+i\n",
    "print(a)"
   ]
  },
  {
   "cell_type": "raw",
   "metadata": {},
   "source": []
  }
 ],
 "metadata": {
  "kernelspec": {
   "display_name": "Python 3",
   "language": "python",
   "name": "python3"
  },
  "language_info": {
   "codemirror_mode": {
    "name": "ipython",
    "version": 3
   },
   "file_extension": ".py",
   "mimetype": "text/x-python",
   "name": "python",
   "nbconvert_exporter": "python",
   "pygments_lexer": "ipython3",
   "version": "3.6.0"
  }
 },
 "nbformat": 4,
 "nbformat_minor": 2
}
